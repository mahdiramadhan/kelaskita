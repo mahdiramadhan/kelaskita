{
 "cells": [
  {
   "cell_type": "markdown",
   "metadata": {},
   "source": [
    "1. Ubahlah kalimat berikut menjadi kalimat yang mudah terbaca:\n",
    "<ul>   \n",
    "<li>italem irad irigayaj</li>\n",
    "<li>iadab itsap ulalreb</li>\n",
    "<li>nalub kusutret gnalali</li>\n",
    "</ul>"
   ]
  },
  {
   "cell_type": "code",
   "execution_count": null,
   "metadata": {},
   "outputs": [],
   "source": [
    "def reverseWordSentence(Sentence): \n",
    "    return ' '.join(word[::-1] for word in Sentence.split(\" \")) \n",
    "  \n",
    "if __name__ == \"__main__\":     \n",
    "    print(reverseWordSentence(str(input())))"
   ]
  },
  {
   "cell_type": "markdown",
   "metadata": {},
   "source": [
    "2. Buatlah sebuah program yang menghasilkan 100 baris angka, berurutan dari\n",
    "1 sampai dengan 100. Apabila sebuah angka habis dibagi 3, maka tampilkan\n",
    "kata Fizz di sebelahnya. Jika angkanya habis dibagi 5, tampilkan kata Buzz di\n",
    "sebelahnya. Bila angka tersebut habis dibagi 3 dan habis dibagi 5, tampilkan\n",
    "kata FizzBuzz di sebelah angka tersebut."
   ]
  },
  {
   "cell_type": "code",
   "execution_count": null,
   "metadata": {},
   "outputs": [],
   "source": [
    "for number in range(1, 101):\n",
    "    if (number%3==0) & (number%5==0):\n",
    "        print(str(number)+\" \"+\"FizzBuzz\")\n",
    "    elif number%3==0:\n",
    "        print(str(number)+\" \"+\"Fizz\")\n",
    "    elif number%5==0:\n",
    "        print(str(number)+\" \"+\"Buzz\")    \n",
    "    else:\n",
    "        print(number)"
   ]
  },
  {
   "cell_type": "markdown",
   "metadata": {},
   "source": [
    "3. Buatlah sebuah program yang menghasilkan ​ deret angka sederhana yang\n",
    "susunan angkanya merupakan penjumlahan dari dua angka sebelumnya\n",
    "(0,1,1,2,3,5,8,13,21)"
   ]
  },
  {
   "cell_type": "code",
   "execution_count": 84,
   "metadata": {},
   "outputs": [
    {
     "name": "stdout",
     "output_type": "stream",
     "text": [
      "6\n",
      "0,1,1,2,3,5,"
     ]
    }
   ],
   "source": [
    "def Fibonacci(nterms):\n",
    "    n1,n2 = 0,1\n",
    "    count = 0\n",
    "    if nterms<0:\n",
    "        print(\"the number must positive\")\n",
    "    else:\n",
    "        while count<nterms:\n",
    "            print(n1,end=',')\n",
    "            nth = n1 + n2\n",
    "            n1 = n2\n",
    "            n2 = nth\n",
    "            count += 1\n",
    "if __name__ == \"__main__\":     \n",
    "    Fibonacci(int(input()))\n",
    "#     \" \".join(newWords) "
   ]
  },
  {
   "cell_type": "markdown",
   "metadata": {},
   "source": [
    "## 5. Pattern lock\n",
    "\n",
    "- at least through 5 points\n",
    "- maximum through 7 points\n",
    "- from one point must be the closest point\n",
    "- can pass the same point many times"
   ]
  },
  {
   "cell_type": "code",
   "execution_count": 5,
   "metadata": {},
   "outputs": [
    {
     "name": "stdout",
     "output_type": "stream",
     "text": [
      "106080\n"
     ]
    }
   ],
   "source": [
    "# Python3 program to find number of ways \n",
    "# to lock the mobile pattern \n",
    "\n",
    "DOTS = 10\n",
    "\n",
    "# method to find total pattern starting from current cell \n",
    "def totalPatternFromCur(visit, jump, cur, toTouch): \n",
    "    if (toTouch <= 0): \n",
    "        # if last cell then return 1 way \n",
    "        if (toTouch == 0): \n",
    "            return 1 \n",
    "        else: \n",
    "            return 0\n",
    "\n",
    "    ways = 0\n",
    "\n",
    "    visit[cur] = True\n",
    "\n",
    "    for i in range(1, DOTS): \n",
    "\n",
    "        if (visit[i] == False and (jump[i][cur] == 0 or visit[jump[i][cur]])): \n",
    "            ways += totalPatternFromCur(visit, jump, i, toTouch - 1) \n",
    "        # make this cell not visited \n",
    "        # after returning from call \n",
    "    visit[cur] =False\n",
    "\n",
    "    return ways\n",
    "\n",
    "# method returns number of pattern with \n",
    "# minimum m connection and maximum n connection \n",
    "def waysOfConnection(m, n): \n",
    "    jump = [[0 for i in range(DOTS)] for j in range(DOTS)] \n",
    "\n",
    "    # 2 lies between 1 and 3 \n",
    "    jump[1][3] = jump[3][1] = 2\n",
    "\n",
    "    # 8 lies between 7 and 9 \n",
    "    jump[7][9] = jump[9][7] = 8 \n",
    "\n",
    "    # 4 lies between 1 and 7 \n",
    "    jump[1][7] = jump[7][1] = 4 \n",
    "\n",
    "    # 6 lies between 3 and 9 \n",
    "    jump[3][9] = jump[9][3] = 6 \n",
    "\n",
    "    # 5 lies between 1, 9 2, 8 3, 7 and 4, 6 \n",
    "    jump[1][9] = jump[9][1] = jump[2][8] = jump[8][2] =jump[3][7] = jump[7][3] = jump[4][6] = jump[6][4] = 5 \n",
    "\n",
    "    visit = [False]*DOTS \n",
    "    ways = 0\n",
    "    for i in range(m, n + 1): \n",
    "\n",
    "        # 1, 3, 7, 9 are symmetric so multiplying by 4 \n",
    "        ways += 4 * totalPatternFromCur(visit, jump, 1, i - 1) \n",
    "\n",
    "        # 2, 4, 6, 8 are symmetric so multiplying by 4 \n",
    "        ways += 4 * totalPatternFromCur(visit, jump, 2, i - 1) \n",
    "\n",
    "        ways += totalPatternFromCur(visit, jump, 5, i - 1) \n",
    "\n",
    "    return ways \n",
    "\n",
    "# Driver Code \n",
    "if __name__ == '__main__': \n",
    "    minConnect = 5\n",
    "    maxConnect = 7 \n",
    "\n",
    "    print(waysOfConnection(minConnect, maxConnect)) \n"
   ]
  },
  {
   "cell_type": "code",
   "execution_count": null,
   "metadata": {},
   "outputs": [],
   "source": [
    "1,2,4,5\n",
    "2,1,3,4,5,6\n",
    "3,2,5,6\n",
    "4,1,2,5,7,8\n",
    "5,1,2,3,4,6,7,8,9\n",
    "6,2,3,5,8,9\n",
    "7,4,5,8\n",
    "8,4,5,6,7,9\n",
    "9,5,6,8"
   ]
  },
  {
   "cell_type": "code",
   "execution_count": 1,
   "metadata": {},
   "outputs": [
    {
     "name": "stdout",
     "output_type": "stream",
     "text": [
      "YA\n",
      "TIDAK\n",
      "YA\n"
     ]
    }
   ],
   "source": [
    "def lockpatternvalidation(input):\n",
    "    tabel = [(0,1,0,1,1,0,0,0,0), (1,0,1,1,1,1,0,0,0), (0,1,0,0,1,1,0,0,0), (1,1,0,0,1,0,1,1,0), (1,1,1,1,0,1,1,1,1), (0,1,1,0,1,0,0,1,1),\n",
    "            (0,0,0,1,1,0,0,1,0), (0,0,0,1,1,1,1,0,1), (0,0,0,0,1,1,0,1,0)]\n",
    "\n",
    "    output = []\n",
    "\n",
    "    if(5<=len(input)<=7):\n",
    "        for i in range(len(input)-1):\n",
    "            if((tabel[input[i]-1][(input[i+1])-1]) == 1):\n",
    "                output.append(True)\n",
    "                \n",
    "            else:\n",
    "                output.append(False)\n",
    "        \n",
    "        if(False in output):\n",
    "            print(\"TIDAK\")\n",
    "        else:\n",
    "            print(\"YA\")\n",
    "    else:\n",
    "        print(\"TIDAK\")\n",
    "        exit()\n",
    "\n",
    "lockpatternvalidation([1,2,3,2,1])\n",
    "lockpatternvalidation([2,3,6,5,4,7,8,9])\n",
    "lockpatternvalidation([5,1,2,3,6,9])"
   ]
  }
 ],
 "metadata": {
  "kernelspec": {
   "display_name": "Python 3",
   "language": "python",
   "name": "python3"
  },
  "language_info": {
   "codemirror_mode": {
    "name": "ipython",
    "version": 3
   },
   "file_extension": ".py",
   "mimetype": "text/x-python",
   "name": "python",
   "nbconvert_exporter": "python",
   "pygments_lexer": "ipython3",
   "version": "3.6.9"
  }
 },
 "nbformat": 4,
 "nbformat_minor": 2
}
